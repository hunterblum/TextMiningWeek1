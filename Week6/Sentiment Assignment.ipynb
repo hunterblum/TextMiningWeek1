{
 "cells": [
  {
   "attachments": {},
   "cell_type": "markdown",
   "id": "7f79baf9",
   "metadata": {},
   "source": [
    "# ADS 509 Sentiment Assignment\n",
    "\n",
    "This notebook holds the Sentiment Assignment for Module 6 in ADS 509, Applied Text Mining. Work through this notebook, writing code and answering questions where required. \n",
    "\n",
    "In a previous assignment you put together Twitter data and lyrics data on two artists. In this assignment we apply sentiment analysis to those data sets. If, for some reason, you did not complete that previous assignment, data to use for this assignment can be found in the assignment materials section of Blackboard. \n"
   ]
  },
  {
   "attachments": {},
   "cell_type": "markdown",
   "id": "aae8e2e1",
   "metadata": {},
   "source": [
    "## General Assignment Instructions\n",
    "\n",
    "These instructions are included in every assignment, to remind you of the coding standards for the class. Feel free to delete this cell after reading it. \n",
    "\n",
    "One sign of mature code is conforming to a style guide. We recommend the [Google Python Style Guide](https://google.github.io/styleguide/pyguide.html). If you use a different style guide, please include a cell with a link. \n",
    "\n",
    "Your code should be relatively easy-to-read, sensibly commented, and clean. Writing code is a messy process, so please be sure to edit your final submission. Remove any cells that are not needed or parts of cells that contain unnecessary code. Remove inessential `import` statements and make sure that all such statements are moved into the designated cell. \n",
    "\n",
    "Make use of non-code cells for written commentary. These cells should be grammatical and clearly written. In some of these cells you will have questions to answer. The questions will be marked by a \"Q:\" and will have a corresponding \"A:\" spot for you. *Make sure to answer every question marked with a `Q:` for full credit.* \n"
   ]
  },
  {
   "cell_type": "code",
   "execution_count": 1,
   "id": "e2d096b7",
   "metadata": {},
   "outputs": [],
   "source": [
    "import os\n",
    "import re\n",
    "import emoji\n",
    "import pandas as pd\n",
    "import numpy as np\n",
    "\n",
    "from collections import Counter, defaultdict\n",
    "from string import punctuation\n",
    "\n",
    "from nltk.corpus import stopwords\n",
    "\n",
    "sw = stopwords.words(\"english\")"
   ]
  },
  {
   "cell_type": "code",
   "execution_count": 100,
   "id": "6b555ab2",
   "metadata": {},
   "outputs": [],
   "source": [
    "# Add any additional import statements you need here\n",
    "import glob\n",
    "import string\n",
    "from nltk.tokenize import word_tokenize\n",
    "\n",
    "\n",
    "import nltk\n",
    "#nltk.download('punkt')"
   ]
  },
  {
   "cell_type": "code",
   "execution_count": 3,
   "id": "923b5a86",
   "metadata": {},
   "outputs": [],
   "source": [
    "# change `data_location` to the location of the folder on your machine.\n",
    "data_location = \"C:/Users/hunte/OneDrive/School/SanDiego/Courses/Text/TextMining_HBlum/data/\" # change to your location if it is not in the same directory as your notebook\n",
    "\n",
    "# These subfolders should still work if you correctly stored the \n",
    "# data from the Module 1 assignment\n",
    "twitter_folder = \"twitter/\"\n",
    "lyrics_folder = \"lyrics/\"\n",
    "\n",
    "positive_words_file = \"positive-words.txt\"\n",
    "negative_words_file = \"negative-words.txt\"\n",
    "tidy_text_file = \"tidytext_sentiments.txt\""
   ]
  },
  {
   "attachments": {},
   "cell_type": "markdown",
   "id": "9d3bf93e",
   "metadata": {},
   "source": [
    "## Data Input\n",
    "\n",
    "Now read in each of the corpora. For the lyrics data, it may be convenient to store the entire contents of the file to make it easier to inspect the titles individually, as you'll do in the last part of the assignment. In the solution, I stored the lyrics data in a dictionary with two dimensions of keys: artist and song. The value was the file contents. A Pandas data frame would work equally well. \n",
    "\n",
    "For the Twitter data, we only need the description field for this assignment. Feel free all the descriptions read it into a data structure. In the solution, I stored the descriptions as a dictionary of lists, with the key being the artist. \n",
    "\n",
    "\n"
   ]
  },
  {
   "cell_type": "code",
   "execution_count": 4,
   "id": "37d70801",
   "metadata": {},
   "outputs": [
    {
     "data": {
      "text/html": [
       "<div>\n",
       "<style scoped>\n",
       "    .dataframe tbody tr th:only-of-type {\n",
       "        vertical-align: middle;\n",
       "    }\n",
       "\n",
       "    .dataframe tbody tr th {\n",
       "        vertical-align: top;\n",
       "    }\n",
       "\n",
       "    .dataframe thead th {\n",
       "        text-align: right;\n",
       "    }\n",
       "</style>\n",
       "<table border=\"1\" class=\"dataframe\">\n",
       "  <thead>\n",
       "    <tr style=\"text-align: right;\">\n",
       "      <th></th>\n",
       "      <th>artist</th>\n",
       "      <th>song</th>\n",
       "      <th>lyrics</th>\n",
       "    </tr>\n",
       "  </thead>\n",
       "  <tbody>\n",
       "    <tr>\n",
       "      <th>0</th>\n",
       "      <td>beatles</td>\n",
       "      <td>\"All I've Got To Do\"</td>\n",
       "      <td>Whenever I want you around, yeah All I gott...</td>\n",
       "    </tr>\n",
       "    <tr>\n",
       "      <th>1</th>\n",
       "      <td>beatles</td>\n",
       "      <td>\"All My Loving\"</td>\n",
       "      <td>Close your eyes and I'll kiss you Tomorrow ...</td>\n",
       "    </tr>\n",
       "    <tr>\n",
       "      <th>2</th>\n",
       "      <td>beatles</td>\n",
       "      <td>\"Anna (Go To Him)\"</td>\n",
       "      <td>Anna You come and ask me, girl To set you f...</td>\n",
       "    </tr>\n",
       "    <tr>\n",
       "      <th>3</th>\n",
       "      <td>beatles</td>\n",
       "      <td>\"Ask Me Why\"</td>\n",
       "      <td>I love you, 'cause you tell me things I wan...</td>\n",
       "    </tr>\n",
       "    <tr>\n",
       "      <th>4</th>\n",
       "      <td>beatles</td>\n",
       "      <td>\"A Taste Of Honey\"</td>\n",
       "      <td>A taste of honey Tasting much sweeter than ...</td>\n",
       "    </tr>\n",
       "  </tbody>\n",
       "</table>\n",
       "</div>"
      ],
      "text/plain": [
       "    artist                  song  \\\n",
       "0  beatles  \"All I've Got To Do\"   \n",
       "1  beatles       \"All My Loving\"   \n",
       "2  beatles    \"Anna (Go To Him)\"   \n",
       "3  beatles          \"Ask Me Why\"   \n",
       "4  beatles    \"A Taste Of Honey\"   \n",
       "\n",
       "                                              lyrics  \n",
       "0     Whenever I want you around, yeah All I gott...  \n",
       "1     Close your eyes and I'll kiss you Tomorrow ...  \n",
       "2     Anna You come and ask me, girl To set you f...  \n",
       "3     I love you, 'cause you tell me things I wan...  \n",
       "4     A taste of honey Tasting much sweeter than ...  "
      ]
     },
     "execution_count": 4,
     "metadata": {},
     "output_type": "execute_result"
    }
   ],
   "source": [
    "# read in the lyrics here\n",
    "# Read in the lyrics data\n",
    "# Get the filepaths for our artists\n",
    "artists = [\"beatles\", \"ledzeppelin\"]\n",
    "lyrics_filepaths = []\n",
    "artist_list = []\n",
    "\n",
    "for i in artists:\n",
    "\n",
    "    # Create the file path for each artist\n",
    "    path = data_location + lyrics_folder + i\n",
    "\n",
    "    # Get the files\n",
    "    txt_files = glob.glob(os.path.normpath(os.path.join(path, \"*.txt\")))\n",
    "\n",
    "    # Create artist list we'll need for df\n",
    "    temp_list = [i] * len(txt_files)\n",
    "    artist_list = artist_list + temp_list\n",
    "\n",
    "    # Join the filepaths from different artists\n",
    "    lyrics_filepaths = lyrics_filepaths + txt_files\n",
    "\n",
    "    \n",
    "\n",
    "\n",
    "lyrics_list = []\n",
    "song_list = []\n",
    "\n",
    "\n",
    "for file in lyrics_filepaths:\n",
    "\n",
    "    # Get the song title\n",
    "    file_temp = open(file, \"r\")\n",
    "    title = file_temp.readline().rstrip()\n",
    "    song_list.append(title)\n",
    "\n",
    "    # Get the lyrics\n",
    "    list = file_temp.readlines()[1:]\n",
    "    lyrics = \"\".join(list)\n",
    "    lyrics = lyrics.replace('\\n', \" \")\n",
    "    lyrics_list.append(lyrics)\n",
    "    file_temp.close()\n",
    "\n",
    "# Convert to df\n",
    "dict = {'artist': artist_list, 'song': song_list, 'lyrics': lyrics_list}\n",
    "lyrics_data = pd.DataFrame(dict)\n",
    "\n",
    "lyrics_data.head()"
   ]
  },
  {
   "cell_type": "code",
   "execution_count": 5,
   "id": "debcac5a",
   "metadata": {},
   "outputs": [
    {
     "data": {
      "text/html": [
       "<div>\n",
       "<style scoped>\n",
       "    .dataframe tbody tr th:only-of-type {\n",
       "        vertical-align: middle;\n",
       "    }\n",
       "\n",
       "    .dataframe tbody tr th {\n",
       "        vertical-align: top;\n",
       "    }\n",
       "\n",
       "    .dataframe thead th {\n",
       "        text-align: right;\n",
       "    }\n",
       "</style>\n",
       "<table border=\"1\" class=\"dataframe\">\n",
       "  <thead>\n",
       "    <tr style=\"text-align: right;\">\n",
       "      <th></th>\n",
       "      <th>screen_name</th>\n",
       "      <th>name</th>\n",
       "      <th>id</th>\n",
       "      <th>location</th>\n",
       "      <th>followers_count</th>\n",
       "      <th>friends_count</th>\n",
       "      <th>description</th>\n",
       "      <th>artist</th>\n",
       "    </tr>\n",
       "  </thead>\n",
       "  <tbody>\n",
       "    <tr>\n",
       "      <th>0</th>\n",
       "      <td>hsmcnp</td>\n",
       "      <td>Country Girl</td>\n",
       "      <td>35152213</td>\n",
       "      <td>NaN</td>\n",
       "      <td>1302</td>\n",
       "      <td>1014</td>\n",
       "      <td>NaN</td>\n",
       "      <td>cher</td>\n",
       "    </tr>\n",
       "    <tr>\n",
       "      <th>1</th>\n",
       "      <td>horrormomy</td>\n",
       "      <td>Jeny</td>\n",
       "      <td>742153090850164742</td>\n",
       "      <td>Earth</td>\n",
       "      <td>81</td>\n",
       "      <td>514</td>\n",
       "      <td>𝙿𝚛𝚘𝚞𝚍 𝚜𝚞𝚙𝚙𝚘𝚛𝚝𝚎𝚛 𝚘𝚏 𝚖𝚎𝚜𝚜𝚢 𝚋𝚞𝚗𝚜 &amp; 𝚕𝚎𝚐𝚐𝚒𝚗𝚐𝚜</td>\n",
       "      <td>cher</td>\n",
       "    </tr>\n",
       "    <tr>\n",
       "      <th>2</th>\n",
       "      <td>anju79990584</td>\n",
       "      <td>anju</td>\n",
       "      <td>1496463006451974150</td>\n",
       "      <td>NaN</td>\n",
       "      <td>13</td>\n",
       "      <td>140</td>\n",
       "      <td>163㎝／愛かっぷ💜26歳🍒 工〇好きな女の子💓 フォローしてくれたらDMします🧡</td>\n",
       "      <td>cher</td>\n",
       "    </tr>\n",
       "    <tr>\n",
       "      <th>3</th>\n",
       "      <td>gallionjenna</td>\n",
       "      <td>J</td>\n",
       "      <td>3366479914</td>\n",
       "      <td>NaN</td>\n",
       "      <td>752</td>\n",
       "      <td>556</td>\n",
       "      <td>csu</td>\n",
       "      <td>cher</td>\n",
       "    </tr>\n",
       "    <tr>\n",
       "      <th>4</th>\n",
       "      <td>bcscomm</td>\n",
       "      <td>bcscomm</td>\n",
       "      <td>83915043</td>\n",
       "      <td>Washington, DC</td>\n",
       "      <td>888</td>\n",
       "      <td>2891</td>\n",
       "      <td>Writer @Washinformer @SpelmanCollege alumna #D...</td>\n",
       "      <td>cher</td>\n",
       "    </tr>\n",
       "  </tbody>\n",
       "</table>\n",
       "</div>"
      ],
      "text/plain": [
       "    screen_name          name                   id        location  \\\n",
       "0        hsmcnp  Country Girl             35152213             NaN   \n",
       "1    horrormomy          Jeny   742153090850164742           Earth   \n",
       "2  anju79990584          anju  1496463006451974150             NaN   \n",
       "3  gallionjenna             J           3366479914             NaN   \n",
       "4       bcscomm       bcscomm             83915043  Washington, DC   \n",
       "\n",
       "   followers_count  friends_count  \\\n",
       "0             1302           1014   \n",
       "1               81            514   \n",
       "2               13            140   \n",
       "3              752            556   \n",
       "4              888           2891   \n",
       "\n",
       "                                         description artist  \n",
       "0                                                NaN   cher  \n",
       "1           𝙿𝚛𝚘𝚞𝚍 𝚜𝚞𝚙𝚙𝚘𝚛𝚝𝚎𝚛 𝚘𝚏 𝚖𝚎𝚜𝚜𝚢 𝚋𝚞𝚗𝚜 & 𝚕𝚎𝚐𝚐𝚒𝚗𝚐𝚜   cher  \n",
       "2          163㎝／愛かっぷ💜26歳🍒 工〇好きな女の子💓 フォローしてくれたらDMします🧡   cher  \n",
       "3                                                csu   cher  \n",
       "4  Writer @Washinformer @SpelmanCollege alumna #D...   cher  "
      ]
     },
     "execution_count": 5,
     "metadata": {},
     "output_type": "execute_result"
    }
   ],
   "source": [
    "# Read in the twitter data\n",
    "artist_files = {'cher':'cher_followers_data.txt',\n",
    "                'robyn':'robynkonichiwa_followers_data.txt'}\n",
    "\n",
    "twitter_data = pd.read_csv(data_location + twitter_folder + artist_files['cher'],\n",
    "                           sep=\"\\t\",\n",
    "                           quoting=3)\n",
    "\n",
    "twitter_data['artist'] = \"cher\"\n",
    "\n",
    "twitter_data_2 = pd.read_csv(data_location + twitter_folder + artist_files['robyn'],\n",
    "                             sep=\"\\t\",\n",
    "                             quoting=3)\n",
    "twitter_data_2['artist'] = \"robyn\"\n",
    "\n",
    "twitter_data = pd.concat([\n",
    "    twitter_data,twitter_data_2])\n",
    "    \n",
    "del(twitter_data_2)\n",
    "\n",
    "twitter_data.head()"
   ]
  },
  {
   "cell_type": "code",
   "execution_count": 107,
   "id": "af9e7a4b",
   "metadata": {},
   "outputs": [],
   "source": [
    "# Read in the positive and negative words and the\n",
    "# tidytext sentiment. Store these so that the positive\n",
    "# words are associated with a score of +1 and negative words\n",
    "# are associated with a score of -1. You can use a dataframe or a \n",
    "# dictionary for this.\n",
    "\n",
    "# Positive \n",
    "pos_df = pd.read_table(positive_words_file).iloc[33:]\n",
    "pos_df = pos_df.rename(columns={pos_df.columns[0] : 'word'})\n",
    "pos_df['score'] = 1\n",
    "\n",
    "# Negative\n",
    "neg_df = pd.read_table(negative_words_file).iloc[33:]\n",
    "neg_df = neg_df.rename(columns={neg_df.columns[0]: 'word'})\n",
    "neg_df['score'] = 1\n",
    "\n",
    "\n",
    "# Tidy df\n",
    "tidy_df = pd.read_table(tidy_text_file).iloc[:, 0:2]\n",
    "\n",
    "# Calculate the scores based on sentiment column\n",
    "tidy_scores = []\n",
    "for i in tidy_df['sentiment']:\n",
    "    if i == 'negative':\n",
    "        tidy_scores.append(-1)\n",
    "    else:\n",
    "        tidy_scores.append(1)\n",
    "\n",
    "# \n",
    "tidy_df['score'] = tidy_scores\n",
    "tidy_df.drop(columns=['sentiment'], inplace=True)\n",
    "\n",
    "sent_df = pd.concat([pos_df, neg_df, tidy_df], axis = 0).reset_index(drop=True)\n",
    "sent_dict = sent_df.set_index('word')['score'].to_dict()"
   ]
  },
  {
   "attachments": {},
   "cell_type": "markdown",
   "id": "6a5f3b12",
   "metadata": {},
   "source": [
    "## Sentiment Analysis on Songs\n",
    "\n",
    "In this section, score the sentiment for all the songs for both artists in your data set. Score the sentiment by manually calculating the sentiment using the combined lexicons provided in this repository. \n",
    "\n",
    "After you have calculated these sentiments, answer the questions at the end of this section.\n",
    "\n",
    "Write the scoring function:"
   ]
  },
  {
   "cell_type": "code",
   "execution_count": 108,
   "id": "664f8d8f",
   "metadata": {},
   "outputs": [],
   "source": [
    "# Function to calculate score\n",
    "def sent_score(text):\n",
    "    sentiment_score = 0\n",
    "    word_bag = word_tokenize(text.lower())\n",
    "    for word in word_bag:\n",
    "        if word in sent_dict:\n",
    "            sentiment_score += sent_dict[word]\n",
    "    return sentiment_score / len(word_bag)"
   ]
  },
  {
   "attachments": {},
   "cell_type": "markdown",
   "id": "568d4c52",
   "metadata": {},
   "source": [
    "Run our function"
   ]
  },
  {
   "cell_type": "code",
   "execution_count": 109,
   "id": "faf932a3",
   "metadata": {},
   "outputs": [],
   "source": [
    "lyrics_data['Sent_score'] = lyrics_data['lyrics'].apply(sent_score)"
   ]
  },
  {
   "attachments": {},
   "cell_type": "markdown",
   "id": "a8f4f799",
   "metadata": {},
   "source": [
    "Question 1"
   ]
  },
  {
   "cell_type": "code",
   "execution_count": 111,
   "id": "cf941ff3",
   "metadata": {},
   "outputs": [
    {
     "data": {
      "text/plain": [
       "artist\n",
       "beatles        1.040979\n",
       "ledzeppelin    0.810352\n",
       "Name: Sent_score, dtype: float64"
      ]
     },
     "execution_count": 111,
     "metadata": {},
     "output_type": "execute_result"
    }
   ],
   "source": [
    "lyrics_data.groupby(by='artist')['Sent_score'].sum()"
   ]
  },
  {
   "attachments": {},
   "cell_type": "markdown",
   "id": "069199a6",
   "metadata": {},
   "source": [
    "Question 2"
   ]
  },
  {
   "cell_type": "code",
   "execution_count": 131,
   "id": "18816d48",
   "metadata": {},
   "outputs": [
    {
     "name": "stdout",
     "output_type": "stream",
     "text": [
      "Beatles Top Three Songs\n",
      "\n",
      "                     song  Sent_score\n",
      "18  \"Till There Was You\"    0.097015\n",
      "7               \"Chains\"    0.102439\n",
      "13          \"Love Me Do\"    0.267717\n",
      "['   There were bells on a hill But I never heard them ringing No, I never heard them at all Till there was you  There were birds in the sky But I never saw them winging No, I never saw them at all Till there was you  Then there was music and wonderful roses They tell me in sweet fragrant meadows Of dawn and dew  There was love all around But I never heard it singing No, I never heard it at all Till there was you  Then there was music and wonderful roses They tell me in sweet fragrant meadows Of dawn and dew  There was love all around But I never heard it singing No, I never heard it at all Till there was you Till there was you '\n",
      " \"   Chains, my baby's got me locked up in chains And they ain't the kind that you can see Whoa, oh, these chains of love got a hold on me, yeah  Chains, well I can't break away from these chains Can't run around, cos I'm not free Whoa, oh, these chains of love won't let me be, yeah  I wanna tell you, pretty baby I think you're fine I'd like to love you But, darling, I'm imprisoned by these...  Chains, my baby's got me locked up in chains And they ain't the kind that you can see Oh, oh, these chains of love got a hold on me  Please believe me when I tell you Your lips are sweet I'd like to kiss them But I can't break away from all of these...  Chains, my baby's got me locked up in chains And they ain't the kind that you can see Whoa, oh, these chains of love got a hold on me, yeah  Chains, chains of love... \"\n",
      " \"   Love, love me do You know I love you I'll always be true So please, love me do Whoa, love me do  Love, love me do You know I love you I'll always be true So please, love me do Whoa, love me do  Someone to love Somebody new Someone to love Someone like you  Love, love me do You know I love you I'll always be true So please, love me do Whoa, love me do  Love, love me do You know I love you I'll always be true So please, love me do Whoa, love me do Yeah, love me do Whoa, oh, love me do \"]\n",
      "\n",
      "\n",
      "Beatles Bottom Three Songs\n",
      "\n",
      "                     song  Sent_score\n",
      "14              \"Misery\"   -0.084416\n",
      "8      \"Don't Bother Me\"   -0.035242\n",
      "0   \"All I've Got To Do\"   -0.005155\n",
      "[\"   The world is treating me bad... Misery  I'm the kind of guy Who never used to cry The world is treating me bad... Misery!  I've lost her now for sure I won't see her no more It's gonna be a drag... Misery!  I'll remember all the little things we've done Can't she see she'll always be the only one, only one  Send her back to me Cos everyone can see Without her I will be in misery  I'll remember all the little things we've done She'll remember and she'll miss her only one, lonely one  Send her back to me Cos everyone can see Without her I will be in misery (Oh oh oh) In misery (Ooh ee ooh ooh) My misery (La la la la la la) \"\n",
      " \"   Since she's been gone I want no one To talk to me It's not the same But I'm to blame It's plain to see  So go away and leave me alone Don't bother me  I can't believe That she would leave Me on my own It's just not right Where every night I'm all alone  I've got no time for you right now Don't bother me  I know I'll never be the same If I don't get her back again Because I know she'll always be The only girl for me  But till she's here Please don't come near just stay away I'll let you know When she's come home Until that day  Don't come around leave me alone Don't bother me  I've got no time for you right now Don't bother me  I know I'll never be the same If I don't get her back again Because I know she'll always be The only girl for me  But till she's here Please don't come near Just stay away I'll let you know When she's come home Until that day  Don't come around leave me alone Don't bother me Don't bother me Don't bother me \"\n",
      " \"   Whenever I want you around, yeah All I gotta do is call you on the phone And you'll come running home yeah that's all I gotta do  And when I wanna kiss you, yeah All I gotta do is whisper in your ear The words you long to hear And I'll be kissin' you  And the same goes for me, whenever you want me at all I'll be here, yes I will, whenever you call You just gotta call on me, yeah You just gotta call on me  And when I wanna kiss you, yeah All I gotta do is call you on the phone And you'll come running home Yeah, that's all I gotta do  And the same goes for me, whenever you want me at all I'll be here, yes I will, whenever you call You just gotta call on me, yeah You just gotta call on me. Oh, you just gotta call on me  Mmmmmm mm mm \"]\n"
     ]
    }
   ],
   "source": [
    "# Top and bottom three beatles\n",
    "beatles_df = lyrics_data[lyrics_data['artist'] == 'beatles']\n",
    "beatles_df = beatles_df.sort_values(by='Sent_score')\n",
    "\n",
    "print('Beatles Top Three Songs\\n\\n', beatles_df.tail(3)[['song', 'Sent_score']])\n",
    "print(beatles_df.tail(3)['lyrics'].values)\n",
    "\n",
    "print('\\n\\nBeatles Bottom Three Songs\\n\\n', beatles_df.head(3)[['song', 'Sent_score']])\n",
    "print(beatles_df.head(3)['lyrics'].values)"
   ]
  },
  {
   "attachments": {},
   "cell_type": "markdown",
   "id": "b0afb751",
   "metadata": {},
   "source": [
    "Question 3"
   ]
  },
  {
   "cell_type": "code",
   "execution_count": 134,
   "id": "dd759ec1",
   "metadata": {},
   "outputs": [
    {
     "name": "stdout",
     "output_type": "stream",
     "text": [
      "Led Zeppelin Top Three Songs\n",
      "\n",
      "                                          song  Sent_score\n",
      "31  \"Living Loving Maid (She's Just A Woman)\"    0.068548\n",
      "22                          \"Celebration Day\"    0.069231\n",
      "37                         \"Whole Lotta Love\"    0.136719\n",
      "[\"   With a purple umbrella and a fifty cent hat Living, loving, she's just a woman Missus cool rides out in her aged Cadillac Living, loving, she's just a woman  Come on, babe on the roundabout Ride on the merry-go-round We all know what your name is So you better lay your money down  Alimony, alimony, paying your bills Living, loving, she's just a woman When your conscience hits, you knock it back with pills Living, loving, she's just a woman  Come on, babe on the roundabout Ride on the merry-go-round We all know what your name is So you better lay your money down  Telling tall tales of how it used to be Living, loving, she's just a woman With the butler and the maid and the servants three Living, loving, she's just a woman  Nobody hears a single word you say Living, loving, she's just a woman But you keep on talking 'til your dying day Living, loving, she's just a woman  Come on, babe on the roundabout Ride on the merry-go-round We all know what your name is So you better lay your money down  Living, loving, she's just a woman Living, living, loving, loving, she's just a woman Li-li-li-li-live, lo-lo-lo-lo-love, she's just a woman \"\n",
      " \"   Her face is cracked from smiling All the fears that she's been hiding And it seems pretty soon everybody's gonna know And her voice is sore from shouting Cheering winners who are losing And she worries if their days are few And soon they'll have to go  My, my, my, I'm so happy I'm gonna join the band We' gonna dance and sing in celebration We are in the promised land  She hears them talk of new ways To protect the home she lives in Then she wonders what it's all about When they break down the door Her name is Brown or White or Black You know her very well You hear her cries of mercy As the winners toll the bell  My, my, my, I'm so happy I'm gonna join the band We' gonna sing and dance in celebration We are the promised land  There is a train that leaves the station Heading for your destination But the price you pay to nowhere Has increased a dollar more. Yes, it has! And if you walk you're gonna get there Though it takes a little longer And when you see it in the distance You will wring your hands and moan, oh, yeah  If you walk you're gonna get there Though it takes a little longer And when you see it in the distance You will wring your hands \"\n",
      " \"   You need cooling, baby, I'm not fooling I'm gonna send you back to schooling Way down inside, honey, you need it I'm gonna give you my love I'm gonna give you my love  Want a whole lotta love Want a whole lotta love Want a whole lotta love Want a whole lotta love  You've been learning, baby, I've been yearning All them good times, baby, baby, I've been learning Way, way down inside, honey, you need it I'm gonna give you my love I'm gonna give you my love  Want a whole lotta love Want a whole lotta love Want a whole lotta love Want a whole lotta love  You've been cooling, baby, I've been drooling All the good times baby I've been misusing Way, way down inside, I'm gonna give you my love I'm gonna give you every inch of my love Gonna give you my love  Yeah! All right! Let's go  Want a whole lotta love Want a whole lotta love Want a whole lotta love Want a whole lotta love  Way down inside... woman... you need... love  Shake for me, girl I wanna be your backdoor man Keep it cooling, baby Keep it cooling, baby Keep it cooling, baby Keep it cooling, baby \"]\n",
      "\n",
      "\\Led Zeppelin Bottom Three Songs\n",
      "\n",
      "                             song  Sent_score\n",
      "38     \"Your Time Is Gonna Come\"   -0.030568\n",
      "23     \"Communication Breakdown\"   -0.026786\n",
      "33  \"Since I've Been Loving You\"    0.002717\n",
      "[\"   The world is treating me bad... Misery  I'm the kind of guy Who never used to cry The world is treating me bad... Misery!  I've lost her now for sure I won't see her no more It's gonna be a drag... Misery!  I'll remember all the little things we've done Can't she see she'll always be the only one, only one  Send her back to me Cos everyone can see Without her I will be in misery  I'll remember all the little things we've done She'll remember and she'll miss her only one, lonely one  Send her back to me Cos everyone can see Without her I will be in misery (Oh oh oh) In misery (Ooh ee ooh ooh) My misery (La la la la la la) \"\n",
      " \"   Since she's been gone I want no one To talk to me It's not the same But I'm to blame It's plain to see  So go away and leave me alone Don't bother me  I can't believe That she would leave Me on my own It's just not right Where every night I'm all alone  I've got no time for you right now Don't bother me  I know I'll never be the same If I don't get her back again Because I know she'll always be The only girl for me  But till she's here Please don't come near just stay away I'll let you know When she's come home Until that day  Don't come around leave me alone Don't bother me  I've got no time for you right now Don't bother me  I know I'll never be the same If I don't get her back again Because I know she'll always be The only girl for me  But till she's here Please don't come near Just stay away I'll let you know When she's come home Until that day  Don't come around leave me alone Don't bother me Don't bother me Don't bother me \"\n",
      " \"   Whenever I want you around, yeah All I gotta do is call you on the phone And you'll come running home yeah that's all I gotta do  And when I wanna kiss you, yeah All I gotta do is whisper in your ear The words you long to hear And I'll be kissin' you  And the same goes for me, whenever you want me at all I'll be here, yes I will, whenever you call You just gotta call on me, yeah You just gotta call on me  And when I wanna kiss you, yeah All I gotta do is call you on the phone And you'll come running home Yeah, that's all I gotta do  And the same goes for me, whenever you want me at all I'll be here, yes I will, whenever you call You just gotta call on me, yeah You just gotta call on me. Oh, you just gotta call on me  Mmmmmm mm mm \"]\n"
     ]
    }
   ],
   "source": [
    "# Top and bottom three beatles\n",
    "led_df = lyrics_data[lyrics_data['artist'] == 'ledzeppelin']\n",
    "led_df = led_df.sort_values(by='Sent_score')\n",
    "\n",
    "print('Led Zeppelin Top Three Songs\\n\\n', led_df.tail(3)[['song', 'Sent_score']])\n",
    "print(led_df.tail(3)['lyrics'].values)\n",
    "\n",
    "print('\\n\\Led Zeppelin Bottom Three Songs\\n\\n', led_df.head(3)[['song', 'Sent_score']])\n",
    "print(beatles_df.head(3)['lyrics'].values)"
   ]
  },
  {
   "attachments": {},
   "cell_type": "markdown",
   "id": "95b98d72",
   "metadata": {},
   "source": [
    "Question 4"
   ]
  },
  {
   "cell_type": "code",
   "execution_count": 138,
   "id": "426af4d0",
   "metadata": {},
   "outputs": [
    {
     "data": {
      "image/png": "[encoded data removed]",
      "text/plain": [
       "<Figure size 432x288 with 1 Axes>"
      ]
     },
     "metadata": {
      "needs_background": "light"
     },
     "output_type": "display_data"
    }
   ],
   "source": [
    "lyrics_data.groupby('artist')['Sent_score'].plot(kind=\"hist\",density=True,alpha=0.5,legend=True);"
   ]
  },
  {
   "attachments": {},
   "cell_type": "markdown",
   "id": "1f8334f4",
   "metadata": {},
   "source": [
    "### Questions\n",
    "\n",
    "Q: Overall, which artist has the higher average sentiment per song? \n",
    "\n",
    "A: <!-- Your answer here -->\n",
    "\n",
    "---\n",
    "\n",
    "Q: For your first artist, what are the three songs that have the highest and lowest sentiments? Print the lyrics of those songs to the screen. What do you think is driving the sentiment score? \n",
    "\n",
    "A: <!-- Your answer here -->\n",
    "\n",
    "---\n",
    "\n",
    "Q: For your second artist, what are the three songs that have the highest and lowest sentiments? Print the lyrics of those songs to the screen. What do you think is driving the sentiment score? \n",
    "\n",
    "A: <!-- Your answer here -->\n",
    "\n",
    "---\n",
    "\n",
    "Q: Plot the distributions of the sentiment scores for both artists. You can use `seaborn` to plot densities or plot histograms in matplotlib.\n",
    "\n",
    "\n"
   ]
  },
  {
   "attachments": {},
   "cell_type": "markdown",
   "id": "b3fe644d",
   "metadata": {},
   "source": [
    "## Sentiment Analysis on Twitter Descriptions\n",
    "\n",
    "In this section, define two sets of emojis you designate as positive and negative. Make sure to have at least 10 emojis per set. You can learn about the most popular emojis on Twitter at [the emojitracker](https://emojitracker.com/). \n",
    "\n",
    "Associate your positive emojis with a score of +1, negative with -1. Score the average sentiment of your two artists based on the Twitter descriptions of their followers. The average sentiment can just be the total score divided by number of followers. You do not need to calculate sentiment on non-emoji content for this section."
   ]
  },
  {
   "cell_type": "code",
   "execution_count": null,
   "id": "1a5c1d25",
   "metadata": {},
   "outputs": [],
   "source": [
    "# your code here"
   ]
  },
  {
   "attachments": {},
   "cell_type": "markdown",
   "id": "fb92eb93",
   "metadata": {},
   "source": [
    "Q: What is the average sentiment of your two artists? \n",
    "\n",
    "A: <!-- Your answer here --> \n",
    "\n",
    "---\n",
    "\n",
    "Q: Which positive emoji is the most popular for each artist? Which negative emoji? \n",
    "\n",
    "A: <!-- Your answer here --> \n",
    "\n"
   ]
  }
 ],
 "metadata": {
  "kernelspec": {
   "display_name": "Python 3 (ipykernel)",
   "language": "python",
   "name": "python3"
  },
  "language_info": {
   "codemirror_mode": {
    "name": "ipython",
    "version": 3
   },
   "file_extension": ".py",
   "mimetype": "text/x-python",
   "name": "python",
   "nbconvert_exporter": "python",
   "pygments_lexer": "ipython3",
   "version": "3.9.12"
  }
 },
 "nbformat": 4,
 "nbformat_minor": 5
}
