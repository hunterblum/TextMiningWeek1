{
 "cells": [
  {
   "attachments": {},
   "cell_type": "markdown",
   "id": "7f79baf9",
   "metadata": {},
   "source": [
    "# ADS 509 Sentiment Assignment\n",
    "\n",
    "This notebook holds the Sentiment Assignment for Module 6 in ADS 509, Applied Text Mining. Work through this notebook, writing code and answering questions where required. \n",
    "\n",
    "In a previous assignment you put together Twitter data and lyrics data on two artists. In this assignment we apply sentiment analysis to those data sets. If, for some reason, you did not complete that previous assignment, data to use for this assignment can be found in the assignment materials section of Blackboard. \n"
   ]
  },
  {
   "attachments": {},
   "cell_type": "markdown",
   "id": "aae8e2e1",
   "metadata": {},
   "source": [
    "## General Assignment Instructions\n",
    "\n",
    "These instructions are included in every assignment, to remind you of the coding standards for the class. Feel free to delete this cell after reading it. \n",
    "\n",
    "One sign of mature code is conforming to a style guide. We recommend the [Google Python Style Guide](https://google.github.io/styleguide/pyguide.html). If you use a different style guide, please include a cell with a link. \n",
    "\n",
    "Your code should be relatively easy-to-read, sensibly commented, and clean. Writing code is a messy process, so please be sure to edit your final submission. Remove any cells that are not needed or parts of cells that contain unnecessary code. Remove inessential `import` statements and make sure that all such statements are moved into the designated cell. \n",
    "\n",
    "Make use of non-code cells for written commentary. These cells should be grammatical and clearly written. In some of these cells you will have questions to answer. The questions will be marked by a \"Q:\" and will have a corresponding \"A:\" spot for you. *Make sure to answer every question marked with a `Q:` for full credit.* \n"
   ]
  },
  {
   "cell_type": "code",
   "execution_count": 12,
   "id": "e2d096b7",
   "metadata": {},
   "outputs": [],
   "source": [
    "import os\n",
    "import re\n",
    "import emoji\n",
    "import pandas as pd\n",
    "import numpy as np\n",
    "\n",
    "from collections import Counter, defaultdict\n",
    "from string import punctuation\n",
    "\n",
    "from nltk.corpus import stopwords\n",
    "\n",
    "sw = stopwords.words(\"english\")"
   ]
  },
  {
   "cell_type": "code",
   "execution_count": 156,
   "id": "6b555ab2",
   "metadata": {},
   "outputs": [],
   "source": [
    "# Add any additional import statements you need here\n",
    "import glob\n",
    "import string\n",
    "from nltk.tokenize import word_tokenize\n",
    "\n",
    "\n",
    "import nltk\n",
    "#nltk.download('punkt')\n",
    "\n",
    "import warnings\n",
    "warnings.filterwarnings('ignore')"
   ]
  },
  {
   "cell_type": "code",
   "execution_count": 14,
   "id": "923b5a86",
   "metadata": {},
   "outputs": [],
   "source": [
    "# change `data_location` to the location of the folder on your machine.\n",
    "data_location = \"C:/Users/HunterBlum/OneDrive/School/SanDiego/Courses/Text/TextMining_HBlum/data/\" # change to your location if it is not in the same directory as your notebook\n",
    "\n",
    "# These subfolders should still work if you correctly stored the \n",
    "# data from the Module 1 assignment\n",
    "twitter_folder = \"twitter/\"\n",
    "lyrics_folder = \"lyrics/\"\n",
    "\n",
    "positive_words_file = \"positive-words.txt\"\n",
    "negative_words_file = \"negative-words.txt\"\n",
    "tidy_text_file = \"tidytext_sentiments.txt\""
   ]
  },
  {
   "attachments": {},
   "cell_type": "markdown",
   "id": "9d3bf93e",
   "metadata": {},
   "source": [
    "## Data Input\n",
    "\n",
    "Now read in each of the corpora. For the lyrics data, it may be convenient to store the entire contents of the file to make it easier to inspect the titles individually, as you'll do in the last part of the assignment. In the solution, I stored the lyrics data in a dictionary with two dimensions of keys: artist and song. The value was the file contents. A Pandas data frame would work equally well. \n",
    "\n",
    "For the Twitter data, we only need the description field for this assignment. Feel free all the descriptions read it into a data structure. In the solution, I stored the descriptions as a dictionary of lists, with the key being the artist. \n",
    "\n",
    "\n"
   ]
  },
  {
   "cell_type": "code",
   "execution_count": 15,
   "id": "37d70801",
   "metadata": {},
   "outputs": [
    {
     "data": {
      "text/html": [
       "<div>\n",
       "<style scoped>\n",
       "    .dataframe tbody tr th:only-of-type {\n",
       "        vertical-align: middle;\n",
       "    }\n",
       "\n",
       "    .dataframe tbody tr th {\n",
       "        vertical-align: top;\n",
       "    }\n",
       "\n",
       "    .dataframe thead th {\n",
       "        text-align: right;\n",
       "    }\n",
       "</style>\n",
       "<table border=\"1\" class=\"dataframe\">\n",
       "  <thead>\n",
       "    <tr style=\"text-align: right;\">\n",
       "      <th></th>\n",
       "      <th>artist</th>\n",
       "      <th>song</th>\n",
       "      <th>lyrics</th>\n",
       "    </tr>\n",
       "  </thead>\n",
       "  <tbody>\n",
       "    <tr>\n",
       "      <th>0</th>\n",
       "      <td>beatles</td>\n",
       "      <td>\"All I've Got To Do\"</td>\n",
       "      <td>Whenever I want you around, yeah All I gott...</td>\n",
       "    </tr>\n",
       "    <tr>\n",
       "      <th>1</th>\n",
       "      <td>beatles</td>\n",
       "      <td>\"All My Loving\"</td>\n",
       "      <td>Close your eyes and I'll kiss you Tomorrow ...</td>\n",
       "    </tr>\n",
       "    <tr>\n",
       "      <th>2</th>\n",
       "      <td>beatles</td>\n",
       "      <td>\"Anna (Go To Him)\"</td>\n",
       "      <td>Anna You come and ask me, girl To set you f...</td>\n",
       "    </tr>\n",
       "    <tr>\n",
       "      <th>3</th>\n",
       "      <td>beatles</td>\n",
       "      <td>\"Ask Me Why\"</td>\n",
       "      <td>I love you, 'cause you tell me things I wan...</td>\n",
       "    </tr>\n",
       "    <tr>\n",
       "      <th>4</th>\n",
       "      <td>beatles</td>\n",
       "      <td>\"A Taste Of Honey\"</td>\n",
       "      <td>A taste of honey Tasting much sweeter than ...</td>\n",
       "    </tr>\n",
       "  </tbody>\n",
       "</table>\n",
       "</div>"
      ],
      "text/plain": [
       "    artist                  song  \\\n",
       "0  beatles  \"All I've Got To Do\"   \n",
       "1  beatles       \"All My Loving\"   \n",
       "2  beatles    \"Anna (Go To Him)\"   \n",
       "3  beatles          \"Ask Me Why\"   \n",
       "4  beatles    \"A Taste Of Honey\"   \n",
       "\n",
       "                                              lyrics  \n",
       "0     Whenever I want you around, yeah All I gott...  \n",
       "1     Close your eyes and I'll kiss you Tomorrow ...  \n",
       "2     Anna You come and ask me, girl To set you f...  \n",
       "3     I love you, 'cause you tell me things I wan...  \n",
       "4     A taste of honey Tasting much sweeter than ...  "
      ]
     },
     "execution_count": 15,
     "metadata": {},
     "output_type": "execute_result"
    }
   ],
   "source": [
    "# read in the lyrics here\n",
    "# Read in the lyrics data\n",
    "# Get the filepaths for our artists\n",
    "artists = [\"beatles\", \"ledzeppelin\"]\n",
    "lyrics_filepaths = []\n",
    "artist_list = []\n",
    "\n",
    "for i in artists:\n",
    "\n",
    "    # Create the file path for each artist\n",
    "    path = data_location + lyrics_folder + i\n",
    "\n",
    "    # Get the files\n",
    "    txt_files = glob.glob(os.path.normpath(os.path.join(path, \"*.txt\")))\n",
    "\n",
    "    # Create artist list we'll need for df\n",
    "    temp_list = [i] * len(txt_files)\n",
    "    artist_list = artist_list + temp_list\n",
    "\n",
    "    # Join the filepaths from different artists\n",
    "    lyrics_filepaths = lyrics_filepaths + txt_files\n",
    "\n",
    "    \n",
    "\n",
    "\n",
    "lyrics_list = []\n",
    "song_list = []\n",
    "\n",
    "\n",
    "for file in lyrics_filepaths:\n",
    "\n",
    "    # Get the song title\n",
    "    file_temp = open(file, \"r\")\n",
    "    title = file_temp.readline().rstrip()\n",
    "    song_list.append(title)\n",
    "\n",
    "    # Get the lyrics\n",
    "    list = file_temp.readlines()[1:]\n",
    "    lyrics = \"\".join(list)\n",
    "    lyrics = lyrics.replace('\\n', \" \")\n",
    "    lyrics_list.append(lyrics)\n",
    "    file_temp.close()\n",
    "\n",
    "# Convert to df\n",
    "dict = {'artist': artist_list, 'song': song_list, 'lyrics': lyrics_list}\n",
    "lyrics_data = pd.DataFrame(dict)\n",
    "\n",
    "lyrics_data.head()"
   ]
  },
  {
   "cell_type": "code",
   "execution_count": 16,
   "id": "debcac5a",
   "metadata": {},
   "outputs": [
    {
     "data": {
      "text/html": [
       "<div>\n",
       "<style scoped>\n",
       "    .dataframe tbody tr th:only-of-type {\n",
       "        vertical-align: middle;\n",
       "    }\n",
       "\n",
       "    .dataframe tbody tr th {\n",
       "        vertical-align: top;\n",
       "    }\n",
       "\n",
       "    .dataframe thead th {\n",
       "        text-align: right;\n",
       "    }\n",
       "</style>\n",
       "<table border=\"1\" class=\"dataframe\">\n",
       "  <thead>\n",
       "    <tr style=\"text-align: right;\">\n",
       "      <th></th>\n",
       "      <th>screen_name</th>\n",
       "      <th>name</th>\n",
       "      <th>id</th>\n",
       "      <th>location</th>\n",
       "      <th>followers_count</th>\n",
       "      <th>friends_count</th>\n",
       "      <th>description</th>\n",
       "      <th>artist</th>\n",
       "    </tr>\n",
       "  </thead>\n",
       "  <tbody>\n",
       "    <tr>\n",
       "      <th>0</th>\n",
       "      <td>hsmcnp</td>\n",
       "      <td>Country Girl</td>\n",
       "      <td>35152213</td>\n",
       "      <td>NaN</td>\n",
       "      <td>1302</td>\n",
       "      <td>1014</td>\n",
       "      <td>NaN</td>\n",
       "      <td>cher</td>\n",
       "    </tr>\n",
       "    <tr>\n",
       "      <th>1</th>\n",
       "      <td>horrormomy</td>\n",
       "      <td>Jeny</td>\n",
       "      <td>742153090850164742</td>\n",
       "      <td>Earth</td>\n",
       "      <td>81</td>\n",
       "      <td>514</td>\n",
       "      <td>𝙿𝚛𝚘𝚞𝚍 𝚜𝚞𝚙𝚙𝚘𝚛𝚝𝚎𝚛 𝚘𝚏 𝚖𝚎𝚜𝚜𝚢 𝚋𝚞𝚗𝚜 &amp; 𝚕𝚎𝚐𝚐𝚒𝚗𝚐𝚜</td>\n",
       "      <td>cher</td>\n",
       "    </tr>\n",
       "    <tr>\n",
       "      <th>2</th>\n",
       "      <td>anju79990584</td>\n",
       "      <td>anju</td>\n",
       "      <td>1496463006451974150</td>\n",
       "      <td>NaN</td>\n",
       "      <td>13</td>\n",
       "      <td>140</td>\n",
       "      <td>163㎝／愛かっぷ💜26歳🍒 工〇好きな女の子💓 フォローしてくれたらDMします🧡</td>\n",
       "      <td>cher</td>\n",
       "    </tr>\n",
       "    <tr>\n",
       "      <th>3</th>\n",
       "      <td>gallionjenna</td>\n",
       "      <td>J</td>\n",
       "      <td>3366479914</td>\n",
       "      <td>NaN</td>\n",
       "      <td>752</td>\n",
       "      <td>556</td>\n",
       "      <td>csu</td>\n",
       "      <td>cher</td>\n",
       "    </tr>\n",
       "    <tr>\n",
       "      <th>4</th>\n",
       "      <td>bcscomm</td>\n",
       "      <td>bcscomm</td>\n",
       "      <td>83915043</td>\n",
       "      <td>Washington, DC</td>\n",
       "      <td>888</td>\n",
       "      <td>2891</td>\n",
       "      <td>Writer @Washinformer @SpelmanCollege alumna #D...</td>\n",
       "      <td>cher</td>\n",
       "    </tr>\n",
       "  </tbody>\n",
       "</table>\n",
       "</div>"
      ],
      "text/plain": [
       "    screen_name          name                   id        location  \\\n",
       "0        hsmcnp  Country Girl             35152213             NaN   \n",
       "1    horrormomy          Jeny   742153090850164742           Earth   \n",
       "2  anju79990584          anju  1496463006451974150             NaN   \n",
       "3  gallionjenna             J           3366479914             NaN   \n",
       "4       bcscomm       bcscomm             83915043  Washington, DC   \n",
       "\n",
       "   followers_count  friends_count  \\\n",
       "0             1302           1014   \n",
       "1               81            514   \n",
       "2               13            140   \n",
       "3              752            556   \n",
       "4              888           2891   \n",
       "\n",
       "                                         description artist  \n",
       "0                                                NaN   cher  \n",
       "1           𝙿𝚛𝚘𝚞𝚍 𝚜𝚞𝚙𝚙𝚘𝚛𝚝𝚎𝚛 𝚘𝚏 𝚖𝚎𝚜𝚜𝚢 𝚋𝚞𝚗𝚜 & 𝚕𝚎𝚐𝚐𝚒𝚗𝚐𝚜   cher  \n",
       "2          163㎝／愛かっぷ💜26歳🍒 工〇好きな女の子💓 フォローしてくれたらDMします🧡   cher  \n",
       "3                                                csu   cher  \n",
       "4  Writer @Washinformer @SpelmanCollege alumna #D...   cher  "
      ]
     },
     "execution_count": 16,
     "metadata": {},
     "output_type": "execute_result"
    }
   ],
   "source": [
    "# Read in the twitter data\n",
    "artist_files = {'cher':'cher_followers_data.txt',\n",
    "                'robyn':'robynkonichiwa_followers_data.txt'}\n",
    "\n",
    "twitter_data = pd.read_csv(data_location + twitter_folder + artist_files['cher'],\n",
    "                           sep=\"\\t\",\n",
    "                           quoting=3)\n",
    "\n",
    "twitter_data['artist'] = \"cher\"\n",
    "\n",
    "twitter_data_2 = pd.read_csv(data_location + twitter_folder + artist_files['robyn'],\n",
    "                             sep=\"\\t\",\n",
    "                             quoting=3)\n",
    "twitter_data_2['artist'] = \"robyn\"\n",
    "\n",
    "twitter_data = pd.concat([\n",
    "    twitter_data,twitter_data_2])\n",
    "    \n",
    "del(twitter_data_2)\n",
    "\n",
    "twitter_data.head()"
   ]
  },
  {
   "cell_type": "code",
   "execution_count": 17,
   "id": "af9e7a4b",
   "metadata": {},
   "outputs": [],
   "source": [
    "# Read in the positive and negative words and the\n",
    "# tidytext sentiment. Store these so that the positive\n",
    "# words are associated with a score of +1 and negative words\n",
    "# are associated with a score of -1. You can use a dataframe or a \n",
    "# dictionary for this.\n",
    "\n",
    "# Positive \n",
    "pos_df = pd.read_table(positive_words_file).iloc[33:]\n",
    "pos_df = pos_df.rename(columns={pos_df.columns[0] : 'word'})\n",
    "pos_df['score'] = 1\n",
    "\n",
    "# Negative\n",
    "neg_df = pd.read_table(negative_words_file).iloc[33:]\n",
    "neg_df = neg_df.rename(columns={neg_df.columns[0]: 'word'})\n",
    "neg_df['score'] = 1\n",
    "\n",
    "\n",
    "# Tidy df\n",
    "tidy_df = pd.read_table(tidy_text_file).iloc[:, 0:2]\n",
    "\n",
    "# Calculate the scores based on sentiment column\n",
    "tidy_scores = []\n",
    "for i in tidy_df['sentiment']:\n",
    "    if i == 'negative':\n",
    "        tidy_scores.append(-1)\n",
    "    else:\n",
    "        tidy_scores.append(1)\n",
    "\n",
    "# \n",
    "tidy_df['score'] = tidy_scores\n",
    "tidy_df.drop(columns=['sentiment'], inplace=True)\n",
    "\n",
    "sent_df = pd.concat([pos_df, neg_df, tidy_df], axis = 0).reset_index(drop=True)\n",
    "sent_dict = sent_df.set_index('word')['score'].to_dict()"
   ]
  },
  {
   "attachments": {},
   "cell_type": "markdown",
   "id": "6a5f3b12",
   "metadata": {},
   "source": [
    "## Sentiment Analysis on Songs\n",
    "\n",
    "In this section, score the sentiment for all the songs for both artists in your data set. Score the sentiment by manually calculating the sentiment using the combined lexicons provided in this repository. \n",
    "\n",
    "After you have calculated these sentiments, answer the questions at the end of this section.\n",
    "\n",
    "Write the scoring function:"
   ]
  },
  {
   "cell_type": "code",
   "execution_count": 18,
   "id": "664f8d8f",
   "metadata": {},
   "outputs": [],
   "source": [
    "# Function to calculate score\n",
    "def sent_score(text):\n",
    "    sentiment_score = 0\n",
    "    word_bag = word_tokenize(text.lower())\n",
    "    for word in word_bag:\n",
    "        if word in sent_dict:\n",
    "            sentiment_score += sent_dict[word]\n",
    "    return sentiment_score / len(word_bag)"
   ]
  },
  {
   "attachments": {},
   "cell_type": "markdown",
   "id": "568d4c52",
   "metadata": {},
   "source": [
    "Run our function"
   ]
  },
  {
   "cell_type": "code",
   "execution_count": 19,
   "id": "faf932a3",
   "metadata": {},
   "outputs": [],
   "source": [
    "lyrics_data['Sent_score'] = lyrics_data['lyrics'].apply(sent_score)"
   ]
  },
  {
   "attachments": {},
   "cell_type": "markdown",
   "id": "a8f4f799",
   "metadata": {},
   "source": [
    "Question 1"
   ]
  },
  {
   "cell_type": "code",
   "execution_count": 36,
   "id": "cf941ff3",
   "metadata": {},
   "outputs": [
    {
     "data": {
      "text/plain": [
       "artist\n",
       "beatles        0.052049\n",
       "ledzeppelin    0.040518\n",
       "Name: Sent_score, dtype: float64"
      ]
     },
     "execution_count": 36,
     "metadata": {},
     "output_type": "execute_result"
    }
   ],
   "source": [
    "lyrics_data.groupby(by='artist')['Sent_score'].mean()"
   ]
  },
  {
   "attachments": {},
   "cell_type": "markdown",
   "id": "069199a6",
   "metadata": {},
   "source": [
    "Question 2"
   ]
  },
  {
   "cell_type": "code",
   "execution_count": 21,
   "id": "18816d48",
   "metadata": {},
   "outputs": [
    {
     "name": "stdout",
     "output_type": "stream",
     "text": [
      "Beatles Top Three Songs\n",
      "\n",
      "                     song  Sent_score\n",
      "18  \"Till There Was You\"    0.097015\n",
      "7               \"Chains\"    0.102439\n",
      "13          \"Love Me Do\"    0.267717\n",
      "['   There were bells on a hill But I never heard them ringing No, I never heard them at all Till there was you  There were birds in the sky But I never saw them winging No, I never saw them at all Till there was you  Then there was music and wonderful roses They tell me in sweet fragrant meadows Of dawn and dew  There was love all around But I never heard it singing No, I never heard it at all Till there was you  Then there was music and wonderful roses They tell me in sweet fragrant meadows Of dawn and dew  There was love all around But I never heard it singing No, I never heard it at all Till there was you Till there was you '\n",
      " \"   Chains, my baby's got me locked up in chains And they ain't the kind that you can see Whoa, oh, these chains of love got a hold on me, yeah  Chains, well I can't break away from these chains Can't run around, cos I'm not free Whoa, oh, these chains of love won't let me be, yeah  I wanna tell you, pretty baby I think you're fine I'd like to love you But, darling, I'm imprisoned by these...  Chains, my baby's got me locked up in chains And they ain't the kind that you can see Oh, oh, these chains of love got a hold on me  Please believe me when I tell you Your lips are sweet I'd like to kiss them But I can't break away from all of these...  Chains, my baby's got me locked up in chains And they ain't the kind that you can see Whoa, oh, these chains of love got a hold on me, yeah  Chains, chains of love... \"\n",
      " \"   Love, love me do You know I love you I'll always be true So please, love me do Whoa, love me do  Love, love me do You know I love you I'll always be true So please, love me do Whoa, love me do  Someone to love Somebody new Someone to love Someone like you  Love, love me do You know I love you I'll always be true So please, love me do Whoa, love me do  Love, love me do You know I love you I'll always be true So please, love me do Whoa, love me do Yeah, love me do Whoa, oh, love me do \"]\n",
      "\n",
      "\n",
      "Beatles Bottom Three Songs\n",
      "\n",
      "                     song  Sent_score\n",
      "14              \"Misery\"   -0.084416\n",
      "8      \"Don't Bother Me\"   -0.035242\n",
      "0   \"All I've Got To Do\"   -0.005155\n",
      "[\"   The world is treating me bad... Misery  I'm the kind of guy Who never used to cry The world is treating me bad... Misery!  I've lost her now for sure I won't see her no more It's gonna be a drag... Misery!  I'll remember all the little things we've done Can't she see she'll always be the only one, only one  Send her back to me Cos everyone can see Without her I will be in misery  I'll remember all the little things we've done She'll remember and she'll miss her only one, lonely one  Send her back to me Cos everyone can see Without her I will be in misery (Oh oh oh) In misery (Ooh ee ooh ooh) My misery (La la la la la la) \"\n",
      " \"   Since she's been gone I want no one To talk to me It's not the same But I'm to blame It's plain to see  So go away and leave me alone Don't bother me  I can't believe That she would leave Me on my own It's just not right Where every night I'm all alone  I've got no time for you right now Don't bother me  I know I'll never be the same If I don't get her back again Because I know she'll always be The only girl for me  But till she's here Please don't come near just stay away I'll let you know When she's come home Until that day  Don't come around leave me alone Don't bother me  I've got no time for you right now Don't bother me  I know I'll never be the same If I don't get her back again Because I know she'll always be The only girl for me  But till she's here Please don't come near Just stay away I'll let you know When she's come home Until that day  Don't come around leave me alone Don't bother me Don't bother me Don't bother me \"\n",
      " \"   Whenever I want you around, yeah All I gotta do is call you on the phone And you'll come running home yeah that's all I gotta do  And when I wanna kiss you, yeah All I gotta do is whisper in your ear The words you long to hear And I'll be kissin' you  And the same goes for me, whenever you want me at all I'll be here, yes I will, whenever you call You just gotta call on me, yeah You just gotta call on me  And when I wanna kiss you, yeah All I gotta do is call you on the phone And you'll come running home Yeah, that's all I gotta do  And the same goes for me, whenever you want me at all I'll be here, yes I will, whenever you call You just gotta call on me, yeah You just gotta call on me. Oh, you just gotta call on me  Mmmmmm mm mm \"]\n"
     ]
    }
   ],
   "source": [
    "# Top and bottom three beatles\n",
    "beatles_df = lyrics_data[lyrics_data['artist'] == 'beatles']\n",
    "beatles_df = beatles_df.sort_values(by='Sent_score')\n",
    "\n",
    "print('Beatles Top Three Songs\\n\\n', beatles_df.tail(3)[['song', 'Sent_score']])\n",
    "print(beatles_df.tail(3)['lyrics'].values)\n",
    "\n",
    "print('\\n\\nBeatles Bottom Three Songs\\n\\n', beatles_df.head(3)[['song', 'Sent_score']])\n",
    "print(beatles_df.head(3)['lyrics'].values)"
   ]
  },
  {
   "attachments": {},
   "cell_type": "markdown",
   "id": "b0afb751",
   "metadata": {},
   "source": [
    "Question 3"
   ]
  },
  {
   "cell_type": "code",
   "execution_count": 159,
   "id": "dd759ec1",
   "metadata": {},
   "outputs": [
    {
     "name": "stdout",
     "output_type": "stream",
     "text": [
      "Led Zeppelin Top Three Songs\n",
      "\n",
      "                                          song  Sent_score\n",
      "31  \"Living Loving Maid (She's Just A Woman)\"    0.068548\n",
      "22                          \"Celebration Day\"    0.069231\n",
      "37                         \"Whole Lotta Love\"    0.136719\n",
      "[\"   With a purple umbrella and a fifty cent hat Living, loving, she's just a woman Missus cool rides out in her aged Cadillac Living, loving, she's just a woman  Come on, babe on the roundabout Ride on the merry-go-round We all know what your name is So you better lay your money down  Alimony, alimony, paying your bills Living, loving, she's just a woman When your conscience hits, you knock it back with pills Living, loving, she's just a woman  Come on, babe on the roundabout Ride on the merry-go-round We all know what your name is So you better lay your money down  Telling tall tales of how it used to be Living, loving, she's just a woman With the butler and the maid and the servants three Living, loving, she's just a woman  Nobody hears a single word you say Living, loving, she's just a woman But you keep on talking 'til your dying day Living, loving, she's just a woman  Come on, babe on the roundabout Ride on the merry-go-round We all know what your name is So you better lay your money down  Living, loving, she's just a woman Living, living, loving, loving, she's just a woman Li-li-li-li-live, lo-lo-lo-lo-love, she's just a woman \"\n",
      " \"   Her face is cracked from smiling All the fears that she's been hiding And it seems pretty soon everybody's gonna know And her voice is sore from shouting Cheering winners who are losing And she worries if their days are few And soon they'll have to go  My, my, my, I'm so happy I'm gonna join the band We' gonna dance and sing in celebration We are in the promised land  She hears them talk of new ways To protect the home she lives in Then she wonders what it's all about When they break down the door Her name is Brown or White or Black You know her very well You hear her cries of mercy As the winners toll the bell  My, my, my, I'm so happy I'm gonna join the band We' gonna sing and dance in celebration We are the promised land  There is a train that leaves the station Heading for your destination But the price you pay to nowhere Has increased a dollar more. Yes, it has! And if you walk you're gonna get there Though it takes a little longer And when you see it in the distance You will wring your hands and moan, oh, yeah  If you walk you're gonna get there Though it takes a little longer And when you see it in the distance You will wring your hands \"\n",
      " \"   You need cooling, baby, I'm not fooling I'm gonna send you back to schooling Way down inside, honey, you need it I'm gonna give you my love I'm gonna give you my love  Want a whole lotta love Want a whole lotta love Want a whole lotta love Want a whole lotta love  You've been learning, baby, I've been yearning All them good times, baby, baby, I've been learning Way, way down inside, honey, you need it I'm gonna give you my love I'm gonna give you my love  Want a whole lotta love Want a whole lotta love Want a whole lotta love Want a whole lotta love  You've been cooling, baby, I've been drooling All the good times baby I've been misusing Way, way down inside, I'm gonna give you my love I'm gonna give you every inch of my love Gonna give you my love  Yeah! All right! Let's go  Want a whole lotta love Want a whole lotta love Want a whole lotta love Want a whole lotta love  Way down inside... woman... you need... love  Shake for me, girl I wanna be your backdoor man Keep it cooling, baby Keep it cooling, baby Keep it cooling, baby Keep it cooling, baby \"]\n",
      "\n",
      "\n",
      "Led Zeppelin Bottom Three Songs\n",
      "\n",
      "                             song  Sent_score\n",
      "38     \"Your Time Is Gonna Come\"   -0.030568\n",
      "23     \"Communication Breakdown\"   -0.026786\n",
      "33  \"Since I've Been Loving You\"    0.002717\n",
      "[\"   Lying, cheating, hurting, that's all you seem to do Messing around with every guy in town Putting me down for thinking of someone new Always the same, playing your game Drive me insane, trouble is gonna come to you One of these days and it won't be long You'll look for me but, baby, I'll be gone This is all I gotta say to you, woman  Your time is gonna come Your time is gonna come Your time is gonna come Your time is gonna come  Made up my mind to break you this time Won't be so fine, it's my turn to cry Do what you want, I won't take the brunt It's fading away, can't feel you anymore Don't care what you say cause I'm going away to stay Going to make you pay for that great big hole in my heart People talking all around Watch out woman, no longer Is the joke gonna be on my heart You been bad to me woman But it's coming back home to you  Your time is gonna come Your time is gonna come Your time is gonna come Your time is gonna come \"\n",
      " \"   Hey, girl, stop what you're doing! Hey, girl, you'll drive me to ruin I don't know what it is that I like about you, but I like it a lot Won't you let me hold you, let me feel your loving touch  Communication breakdown It's always the same I'm having a nervous breakdown Drive me insane  Hey, babe, I got something I think you ought to know Hey, babe, I wanna tell you that I love you so I wanna hold you in my arms, yeah! I'm never gonna let you go, 'cause I like your charms  Communication breakdown It's always the same I'm having a nervous breakdown Drive me insane  Communication breakdown It's always the same I'm having a nervous breakdown Drive me insane! Yeah!  Communication breakdown (I want you to love me all night) (I want you to love me all night) Communication breakdown (Whoa, ah, a whoa oh) Communication breakdown (I want you to love me) (I want you to love) Communication breakdown (I want you to love, yeah) (I want you to love) \"\n",
      " \"   Been working from seven To eleven every night Really makes life a drag I don't think that's right  I've really been the best, the best of fools I did what I could, yeah Cause I love you, baby, how I love you, darling How I love you, baby, my beloved little girl, little girl  But baby, since I've been loving you, yeah I'm about to lose my worried mind, oh yeah  Everybody trying to tell me That you didn't mean me no good I've been trying, Lord, let me tell you Let me tell you, I really did the best I could  I've been, I've been working from seven To eleven every night I said it kinda makes my life a drag, drag, drag, drag Lord, yeah, that ain't right, now, now  Since I've been loving you, yeah I'm about to lose my worried mind Watch out  I said I've been crying, yeah Oh, my tears they fell like rain Don't you hear them, don't you hear them falling? Don't you hear them, don't you hear them falling?  Do you remember, mama, when I knocked upon your door? I said you had the nerve to tell me You didn't want me no more, yeah I open my front door, I hear my back door slam You know, I must have one of them newfangled Newfangled back-door men  I've been a-working from seven, seven, seven To eleven, eleven every night It kinda makes my life a drag, a drag, drag Ah yeah! It makes it a drag  Baby, since I've been loving you I'm about to lose, I'm about to lose, lose my worried mind Oh yeah Just one more, just one more, ooh, yeah Since I've been loving you, I'm gonna lose my worried mind \"]\n"
     ]
    }
   ],
   "source": [
    "# Top and bottom three beatles\n",
    "led_df = lyrics_data[lyrics_data['artist'] == 'ledzeppelin']\n",
    "led_df = led_df.sort_values(by='Sent_score')\n",
    "\n",
    "print('Led Zeppelin Top Three Songs\\n\\n', led_df.tail(3)[['song', 'Sent_score']])\n",
    "print(led_df.tail(3)['lyrics'].values)\n",
    "\n",
    "print('\\n\\nLed Zeppelin Bottom Three Songs\\n\\n', led_df.head(3)[['song', 'Sent_score']])\n",
    "print(led_df.head(3)['lyrics'].values)"
   ]
  },
  {
   "attachments": {},
   "cell_type": "markdown",
   "id": "95b98d72",
   "metadata": {},
   "source": [
    "Question 4"
   ]
  },
  {
   "cell_type": "code",
   "execution_count": 23,
   "id": "426af4d0",
   "metadata": {},
   "outputs": [
    {
     "data": {
      "image/png": "[encoded data removed]",
      "text/plain": [
       "<Figure size 640x480 with 1 Axes>"
      ]
     },
     "metadata": {},
     "output_type": "display_data"
    }
   ],
   "source": [
    "lyrics_data.groupby('artist')['Sent_score'].plot(kind=\"hist\",density=True,alpha=0.5,legend=True);"
   ]
  },
  {
   "attachments": {},
   "cell_type": "markdown",
   "id": "1f8334f4",
   "metadata": {},
   "source": [
    "### Questions\n",
    "\n",
    "Q: Overall, which artist has the higher average sentiment per song? \n",
    "\n",
    "A: Based on our score metric, The Beatles had a slight edge in average sentiment at 0.052049 compared to Led Zeppelin's score of 0.040518.\n",
    "\n",
    "---\n",
    "\n",
    "Q: For your first artist, what are the three songs that have the highest and lowest sentiments? Print the lyrics of those songs to the screen. What do you think is driving the sentiment score? \n",
    "\n",
    "A: For the Beatles, the top three highest sentiment songs in order from least to most positive were: \"Till There was You\", \"Chains\", and \"Love Me Do.\" Looking at the lyrics, it is pretty clear that these are all love songs, as words such as 'love', 'sweet', and 'baby' appear numerous times throughout the songs. Their lowest sentiment songs in order least to most negative: \"All I've Got to Do\", \"Don't Bother Me\", and \"Misery.\" \"All I've Got to Do\", doesn't appear too negative. Given the lyrics it looks like the singer is happy with the relationship with his parter. However, the score is very close to zero, so it is probably more of a neutral/happy song that was misinterpreted by the lexicon based approach. The other two songs are very clearly breakup songs and the singer is very upset, 'misery', 'leave', and 'bother' all indicate the singer is sad and wants to be left alone.\n",
    "\n",
    "---\n",
    "\n",
    "Q: For your second artist, what are the three songs that have the highest and lowest sentiments? Print the lyrics of those songs to the screen. What do you think is driving the sentiment score? \n",
    "\n",
    "A: Led Zeppelin's highest sentiment song in order from least to most positive were: \"Living Loving Maid\", \"Celebration Day\", and \"Whole Lotta Love\". In the first and thrid songs, 'love', 'baby' and 'loving' are repeated many times, likely leading to higher scores. In \"Celebration Day\", the singer sings about being happy, dancing, cheering, etc. which is driving the positive sentiment. Led Zepellin's lowest sentiment songs in order from least to most negative were: \"Since I've Been Loving You\", \"Communication Breakdown\", and \"Your Time is Gonna Come.\" \"Since I've Been Loving You\", actually had a positive score but was very close to neutral. My guess is that the repeated use of 'love' throughout' the song artifically bumped the score up, because the rest of the song he sings about crying and his life being a drag. 'Communication Breakdown' looks like it's about the singer not being able to properly talk to a girl he likes. So, it isn't completely negative, but repeating words like 'nervous' and 'breakdown' definitely drive down the score. All one has to do to understand why \"Your Time is Gonna Come\" is negative is read the first three words: \"Lying, cheating, hurting.\" This song is about the singer getting cheated on and is full of resentful/negative words, so no surprise it was the lowest song.\n",
    "\n",
    "---\n",
    "\n",
    "Q: Plot the distributions of the sentiment scores for both artists. You can use `seaborn` to plot densities or plot histograms in matplotlib.\n",
    "\n",
    "See plot above. The Beatles distribution was much more spread out, but consistently positive. While Led Zeppelin's distribution was concentrated at slightly positive to neutral. This may indicate that they toe the line between positive/negative in songs, or they're using words in a context that the lexicon-based approach can't capture. I can think of a lot of negative Led Zeppelin songs, so I think it may be the latter, and they also use 'love' and 'baby' a lot. It could also just be our small sample size.\n",
    "\n",
    "\n"
   ]
  },
  {
   "attachments": {},
   "cell_type": "markdown",
   "id": "b3fe644d",
   "metadata": {},
   "source": [
    "## Sentiment Analysis on Twitter Descriptions\n",
    "\n",
    "In this section, define two sets of emojis you designate as positive and negative. Make sure to have at least 10 emojis per set. You can learn about the most popular emojis on Twitter at [the emojitracker](https://emojitracker.com/). \n",
    "\n",
    "Associate your positive emojis with a score of +1, negative with -1. Score the average sentiment of your two artists based on the Twitter descriptions of their followers. The average sentiment can just be the total score divided by number of followers. You do not need to calculate sentiment on non-emoji content for this section.\n",
    "\n",
    "Found this slick website that let's you copy and paste the emojis directly into stuff: webfx.com/tools/emoji-cheat-sheet/. A lot easier than dealing with typing all the unicode or descriptions out."
   ]
  },
  {
   "cell_type": "code",
   "execution_count": 33,
   "id": "1a5c1d25",
   "metadata": {},
   "outputs": [],
   "source": [
    "# Just went through and picked some that I would associate with positive tweets\n",
    "# Skull may seem negative, but I usually see it used as someone \"dying\" laughing (same with the crying face)\n",
    "pos_emojis = ['😀', '😆', '😍', '😻', '❤', '💯', '👍', '💪', '💀', '😭']\n",
    "pos_emoji_df = pd.DataFrame(pos_emojis, columns=['emoji'])\n",
    "pos_emoji_df['score'] = 1\n",
    "\n",
    "# Negative emoji dataset \n",
    "neg_emojis = ['🙃', '🥲', '🤢', '🤮', '😕', '😞', '🤬', '😿', '💔', '🖕']\n",
    "neg_emoji_df = pd.DataFrame(neg_emojis, columns = ['emoji'])\n",
    "neg_emoji_df['score'] = -1\n",
    "\n",
    "\n",
    "emoji_df = pd.concat([pos_emoji_df, neg_emoji_df], axis = 0).reset_index(drop=True)\n",
    "emoji_dict = emoji_df.set_index('emoji')['score'].to_dict()"
   ]
  },
  {
   "attachments": {},
   "cell_type": "markdown",
   "id": "9384530a",
   "metadata": {},
   "source": [
    "Calculate the scores for each artist"
   ]
  },
  {
   "cell_type": "code",
   "execution_count": 38,
   "id": "7be6336d",
   "metadata": {},
   "outputs": [
    {
     "data": {
      "text/plain": [
       "artist\n",
       "cher     0.060796\n",
       "robyn    0.050867\n",
       "Name: Sent_score, dtype: float64"
      ]
     },
     "execution_count": 38,
     "metadata": {},
     "output_type": "execute_result"
    }
   ],
   "source": [
    "twitter_data.dropna(inplace=True)\n",
    "twitter_data['Sent_score'] = twitter_data['description'].apply(sent_score)\n",
    "twitter_data.groupby(by='artist')['Sent_score'].mean()"
   ]
  },
  {
   "attachments": {},
   "cell_type": "markdown",
   "id": "ad49cfd9",
   "metadata": {},
   "source": [
    "Most popular positive and negative emojis for each artist\n",
    "\n",
    "Basing this off some code from a previous assingment so we need to tokenize"
   ]
  },
  {
   "cell_type": "code",
   "execution_count": 42,
   "id": "00917ea3",
   "metadata": {},
   "outputs": [
    {
     "name": "stderr",
     "output_type": "stream",
     "text": [
      "C:\\Users\\HunterBlum\\AppData\\Local\\Temp\\ipykernel_16316\\1624373235.py:4: FutureWarning: The default value of regex will change from True to False in a future version.\n",
      "  twitter_tok['description'] = twitter_tok['description'].str.replace('[{}]'.format(string.punctuation), '')\n"
     ]
    }
   ],
   "source": [
    "twitter_tok = twitter_data.copy()\n",
    "\n",
    "# Not worrying about words so we'll just remove punctuation and split rather than all preprocessing steps\n",
    "twitter_tok['description'] = twitter_tok['description'].str.replace('[{}]'.format(string.punctuation), '')\n",
    "twitter_tok['description'] = twitter_tok['description'].str.split()"
   ]
  },
  {
   "cell_type": "code",
   "execution_count": 158,
   "id": "c91ca795",
   "metadata": {},
   "outputs": [
    {
     "name": "stdout",
     "output_type": "stream",
     "text": [
      "Count of our positive emojis for Cher:\n",
      "     emoji  count\n",
      "1       ❤   6364\n",
      "23      😍   1139\n",
      "37      💯    804\n",
      "77      💪    452\n",
      "78      😀    450\n",
      "91      💀    355\n",
      "109     👍    298\n",
      "143     😻    243\n",
      "207     😆    146\n",
      "313     😭     83\n",
      "\n",
      "Count of our negative emojis for Cher:     emoji  count\n",
      "70      🙃    507\n",
      "118     💔    283\n",
      "303     🖕     86\n",
      "348     🤬     72\n",
      "463     🥲     47\n",
      "485     🤮     43\n",
      "650     😕     24\n",
      "696     😞     20\n",
      "735     🤢     17\n",
      "970     😿      6\n",
      "\n",
      "Count of our positive emojis for Robyn:\n",
      "     emoji  count\n",
      "3       ❤    424\n",
      "65      😍     45\n",
      "79      💀     39\n",
      "102     👍     32\n",
      "106     💯     30\n",
      "133     💪     23\n",
      "138     😻     22\n",
      "139     😀     22\n",
      "305     😆      8\n",
      "333     😭      8\n",
      "\n",
      "Count of our negative emojis for Robyn:\n",
      "     emoji  count\n",
      "54      🙃     53\n",
      "251     💔     11\n",
      "288     🥲      9\n",
      "560     🤬      3\n",
      "561     🤮      3\n",
      "656     🤢      2\n",
      "728     😕      2\n"
     ]
    }
   ],
   "source": [
    "# cher\n",
    "# Create emoji df\n",
    "cher = twitter_tok[twitter_tok['artist'] == 'cher']\n",
    "cher_corpus = [element for list_ in cher['description'].values for element in list_]\n",
    "emoji_list = emoji.emoji_list(cher_corpus)\n",
    "emoji_df2 = pd.DataFrame(emoji_list)\n",
    "emoji_df2['emoji'] = emoji_df2['emoji'].astype(str)\n",
    "\n",
    "# Group by and count emojis\n",
    "cher_res = emoji_df2.groupby('emoji')['emoji'].count().sort_values(ascending=False)\n",
    "\n",
    "# Convert to df\n",
    "cher_res_dict = {'emoji' : cher_res.index, 'count': cher_res.values}\n",
    "cher_res_df = pd.DataFrame(cher_res_dict)\n",
    "\n",
    "# Do some formatting\n",
    "cher_res_df['emoji'] = cher_res_df['emoji'].str.replace('[', '')\n",
    "cher_res_df['emoji'] = cher_res_df['emoji'].str.replace(']', '')\n",
    "cher_res_df['emoji'] = cher_res_df['emoji'].str.replace('\\'', '')\n",
    "\n",
    "# Filter with our postivie and negative lists\n",
    "print('Count of our positive emojis for Cher:\\n', cher_res_df[cher_res_df['emoji'].isin(pos_emojis)])\n",
    "print('\\nCount of our negative emojis for Cher:', cher_res_df[cher_res_df['emoji'].isin(neg_emojis)])\n",
    "\n",
    "\n",
    "# Robyn\n",
    "# Create emoji df\n",
    "rob = twitter_tok[twitter_tok['artist'] == 'robyn']\n",
    "rob_corpus = [element for list_ in rob['description'].values for element in list_]\n",
    "emoji_list = emoji.emoji_list(rob_corpus)\n",
    "emoji_df2 = pd.DataFrame(emoji_list)\n",
    "emoji_df2['emoji'] = emoji_df2['emoji'].astype(str)\n",
    "\n",
    "# Group by and count emojis\n",
    "rob_res = emoji_df2.groupby('emoji')['emoji'].count().sort_values(ascending=False)\n",
    "\n",
    "# Convert to df\n",
    "rob_res_dict = {'emoji' : rob_res.index, 'count': rob_res.values}\n",
    "rob_res_df = pd.DataFrame(rob_res_dict)\n",
    "\n",
    "# Do some formatting\n",
    "rob_res_df['emoji'] = rob_res_df['emoji'].str.replace('[', '')\n",
    "rob_res_df['emoji'] = rob_res_df['emoji'].str.replace(']', '')\n",
    "rob_res_df['emoji'] = rob_res_df['emoji'].str.replace('\\'', '')\n",
    "\n",
    "# Filter with our postivie and negative lists\n",
    "print('\\nCount of our positive emojis for Robyn:\\n', rob_res_df[rob_res_df['emoji'].isin(pos_emojis)])\n",
    "print('\\nCount of our negative emojis for Robyn:\\n', rob_res_df[rob_res_df['emoji'].isin(neg_emojis)])"
   ]
  },
  {
   "attachments": {},
   "cell_type": "markdown",
   "id": "fb92eb93",
   "metadata": {},
   "source": [
    "Q: What is the average sentiment of your two artists? \n",
    "\n",
    "A: Cher had an average sentiment of 0.060796, while Robyn's was slightly lower at 0.050867. However, with only picking 10 emojis per positive/negative sentiments, this may not be 100% accurate.\n",
    "\n",
    "\n",
    "Q: Which positive emoji is the most popular for each artist? Which negative emoji? \n",
    "\n",
    "A: For the emoji's we selected, Cher's most popular negative emoji was 🙃 (507 appearances), while her most popular positive emoji was ❤ (6364 appearances). Robyn's shared a similar story with 🙃 (53 appearances) being her most popular negative emoji and ❤ (424 appearnaces) also being her most popular positive emoji.\n",
    "\n"
   ]
  }
 ],
 "metadata": {
  "kernelspec": {
   "display_name": "Python 3 (ipykernel)",
   "language": "python",
   "name": "python3"
  },
  "language_info": {
   "codemirror_mode": {
    "name": "ipython",
    "version": 3
   },
   "file_extension": ".py",
   "mimetype": "text/x-python",
   "name": "python",
   "nbconvert_exporter": "python",
   "pygments_lexer": "ipython3",
   "version": "3.9.13"
  }
 },
 "nbformat": 4,
 "nbformat_minor": 5
}
